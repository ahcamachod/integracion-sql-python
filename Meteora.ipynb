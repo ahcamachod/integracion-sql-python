{
  "nbformat": 4,
  "nbformat_minor": 0,
  "metadata": {
    "colab": {
      "provenance": [],
      "include_colab_link": true
    },
    "kernelspec": {
      "name": "python3",
      "display_name": "Python 3"
    },
    "language_info": {
      "name": "python"
    }
  },
  "cells": [
    {
      "cell_type": "markdown",
      "metadata": {
        "id": "view-in-github",
        "colab_type": "text"
      },
      "source": [
        "<a href=\"https://colab.research.google.com/github/ahcamachod/integracion-sql-python/blob/main/Meteora.ipynb\" target=\"_parent\"><img src=\"https://colab.research.google.com/assets/colab-badge.svg\" alt=\"Open In Colab\"/></a>"
      ]
    },
    {
      "cell_type": "markdown",
      "source": [
        "![Alt text: Slogan de Meteora.](https://i.imgur.com/VDYh2G1.png)"
      ],
      "metadata": {
        "id": "a-3R8AqasmHw"
      }
    },
    {
      "cell_type": "markdown",
      "source": [
        "# 1. Estructurando la tabla"
      ],
      "metadata": {
        "id": "_Vevz6MGruh_"
      }
    },
    {
      "cell_type": "markdown",
      "source": [
        "**Meteora** es una tienda online que vende ropa y accesorios de diversas marcas por todos los estados mexicanos, y el objetivo es entender sus bases de datos y poder exhibir la información relevante para auxiliar en la toma de decisiones del negocio."
      ],
      "metadata": {
        "id": "y4QPCEacpVmB"
      }
    },
    {
      "cell_type": "code",
      "source": [],
      "metadata": {
        "id": "6dpaPIDD91zY"
      },
      "execution_count": null,
      "outputs": []
    },
    {
      "cell_type": "markdown",
      "source": [
        "**Sobre las tablas**\n",
        "\n",
        "* items: Entidad que informa lo que fue vendido. Contiene la información de precio, cantidad, hacia donde se despacha y el costo del envío.\n",
        "* pedidos: Entidad que habla del pedido en sí, contiene la información sobre los vendedores, precio del pedido y la fecha de la venta.\n",
        "* productos: Entidad que contiene las características de cada uno de los productos comercializados por la tienda.\n",
        "* vendedores: Entidad que informa el nombre de los vendedores."
      ],
      "metadata": {
        "id": "GFTMs-TgufBk"
      }
    },
    {
      "cell_type": "code",
      "source": [],
      "metadata": {
        "id": "v5JaiEsR-Dhq"
      },
      "execution_count": null,
      "outputs": []
    },
    {
      "cell_type": "code",
      "source": [],
      "metadata": {
        "id": "XCQZ_g6x-FDC"
      },
      "execution_count": null,
      "outputs": []
    },
    {
      "cell_type": "code",
      "source": [],
      "metadata": {
        "id": "_pi5cWIE-ENy"
      },
      "execution_count": null,
      "outputs": []
    },
    {
      "cell_type": "markdown",
      "source": [
        "# 2. Primeras consultas"
      ],
      "metadata": {
        "id": "buAzY0lKrueq"
      }
    },
    {
      "cell_type": "markdown",
      "source": [
        "Vamos a entender la característica de los productos comercializados por Meteora, analizando la **condición** de los productos vendidos."
      ],
      "metadata": {
        "id": "3GpQpQc_wlVc"
      }
    },
    {
      "cell_type": "code",
      "source": [],
      "metadata": {
        "id": "xQiAB15M9NLS"
      },
      "execution_count": null,
      "outputs": []
    },
    {
      "cell_type": "markdown",
      "source": [
        "Ahora necesitamos generar un ranking de los productos que fueron más pedidos por **cantidad** para entender la necesidad de contar con un inventario de productos en la tienda."
      ],
      "metadata": {
        "id": "hjrfeRPn1NbY"
      }
    },
    {
      "cell_type": "code",
      "source": [],
      "metadata": {
        "id": "l4r-oziS9hFt"
      },
      "execution_count": null,
      "outputs": []
    },
    {
      "cell_type": "code",
      "source": [],
      "metadata": {
        "id": "tf-ie28d9g-6"
      },
      "execution_count": null,
      "outputs": []
    },
    {
      "cell_type": "code",
      "source": [],
      "metadata": {
        "id": "mIhjxNvF9PYL"
      },
      "execution_count": null,
      "outputs": []
    },
    {
      "cell_type": "markdown",
      "source": [
        "# 3. Aplicando filtros"
      ],
      "metadata": {
        "id": "c8k9ik5brubo"
      }
    },
    {
      "cell_type": "markdown",
      "source": [
        "Vamos a iniciar un análisis del desempeño del **equipo de ventas** de Meteora. La intención es entender cuál fue el comportamiento de las ventas para cada uno de los vendedores el **año anterior** para poder aplicar promociones y bonos por el cumplimiento de metas para el equipo durante el año actual que es 2024"
      ],
      "metadata": {
        "id": "6QhdhGf33MD6"
      }
    },
    {
      "cell_type": "code",
      "source": [],
      "metadata": {
        "id": "XjFmCGgS86RS"
      },
      "execution_count": null,
      "outputs": []
    },
    {
      "cell_type": "markdown",
      "source": [
        "Para entender el desempeño de las ventas para cada uno de los vendedores en el año 2023, es necesario trabajar únicamente con los datos que están presentes en el año mencionado."
      ],
      "metadata": {
        "id": "f9mXytOd3wqx"
      }
    },
    {
      "cell_type": "code",
      "source": [],
      "metadata": {
        "id": "dLSkBxvI87sy"
      },
      "execution_count": null,
      "outputs": []
    },
    {
      "cell_type": "markdown",
      "source": [
        "# 4. Avanzando en las relaciones"
      ],
      "metadata": {
        "id": "k5unl1CEruYG"
      }
    },
    {
      "cell_type": "markdown",
      "source": [
        "Meteora desea incrementar sus ventas en la ciudad de México **CDMX**, porque considera que es una ciudad propicia para las ventas ya que tiene una buena concentración de personas y de mercado también.\n",
        "\n",
        "Pero, ¿no será que CDMX por sí sola no tiene muchas más ventas con respecto a los otros estados?"
      ],
      "metadata": {
        "id": "t8A1eRy13_xm"
      }
    },
    {
      "cell_type": "code",
      "source": [],
      "metadata": {
        "id": "RaTm9k-m8lr5"
      },
      "execution_count": null,
      "outputs": []
    },
    {
      "cell_type": "markdown",
      "source": [
        "Una de las acciones que Meteora pretende seguir para las ventas en CDMX es la de escoger a dos de sus vendedores para que ellos **enfoquen sus ventas** allí. Para esta eleccion sería interesante traer a los profesionales que **más ventas hayan realizado** para las personas de la región."
      ],
      "metadata": {
        "id": "cJxpfDVQ4Q0d"
      }
    },
    {
      "cell_type": "code",
      "source": [],
      "metadata": {
        "id": "ejDLrZjy8nht"
      },
      "execution_count": null,
      "outputs": []
    }
  ]
}